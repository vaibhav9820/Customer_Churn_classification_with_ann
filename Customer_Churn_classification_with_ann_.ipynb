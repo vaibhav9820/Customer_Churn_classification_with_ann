{
  "cells": [
    {
      "cell_type": "code",
      "execution_count": 1,
      "id": "11b68e94",
      "metadata": {
        "id": "11b68e94"
      },
      "outputs": [],
      "source": [
        "import numpy as np\n",
        "import pandas as pd\n",
        "import seaborn as sns\n",
        "import matplotlib.pyplot as plt"
      ]
    },
    {
      "cell_type": "code",
      "execution_count": 2,
      "id": "32a2bd51",
      "metadata": {
        "id": "32a2bd51"
      },
      "outputs": [],
      "source": [
        "df = pd.read_csv('Churn_Modelling.csv')"
      ]
    },
    {
      "cell_type": "code",
      "execution_count": 3,
      "id": "8540669c",
      "metadata": {
        "colab": {
          "base_uri": "https://localhost:8080/",
          "height": 443
        },
        "id": "8540669c",
        "outputId": "60200782-df91-4041-ef06-621206204d25"
      },
      "outputs": [
        {
          "output_type": "execute_result",
          "data": {
            "text/plain": [
              "      RowNumber  CustomerId    Surname  CreditScore Geography  Gender  Age  \\\n",
              "0             1    15634602   Hargrave          619    France  Female   42   \n",
              "1             2    15647311       Hill          608     Spain  Female   41   \n",
              "2             3    15619304       Onio          502    France  Female   42   \n",
              "3             4    15701354       Boni          699    France  Female   39   \n",
              "4             5    15737888   Mitchell          850     Spain  Female   43   \n",
              "...         ...         ...        ...          ...       ...     ...  ...   \n",
              "9995       9996    15606229   Obijiaku          771    France    Male   39   \n",
              "9996       9997    15569892  Johnstone          516    France    Male   35   \n",
              "9997       9998    15584532        Liu          709    France  Female   36   \n",
              "9998       9999    15682355  Sabbatini          772   Germany    Male   42   \n",
              "9999      10000    15628319     Walker          792    France  Female   28   \n",
              "\n",
              "      Tenure    Balance  NumOfProducts  HasCrCard  IsActiveMember  \\\n",
              "0          2       0.00              1          1               1   \n",
              "1          1   83807.86              1          0               1   \n",
              "2          8  159660.80              3          1               0   \n",
              "3          1       0.00              2          0               0   \n",
              "4          2  125510.82              1          1               1   \n",
              "...      ...        ...            ...        ...             ...   \n",
              "9995       5       0.00              2          1               0   \n",
              "9996      10   57369.61              1          1               1   \n",
              "9997       7       0.00              1          0               1   \n",
              "9998       3   75075.31              2          1               0   \n",
              "9999       4  130142.79              1          1               0   \n",
              "\n",
              "      EstimatedSalary  Exited  \n",
              "0           101348.88       1  \n",
              "1           112542.58       0  \n",
              "2           113931.57       1  \n",
              "3            93826.63       0  \n",
              "4            79084.10       0  \n",
              "...               ...     ...  \n",
              "9995         96270.64       0  \n",
              "9996        101699.77       0  \n",
              "9997         42085.58       1  \n",
              "9998         92888.52       1  \n",
              "9999         38190.78       0  \n",
              "\n",
              "[10000 rows x 14 columns]"
            ],
            "text/html": [
              "\n",
              "  <div id=\"df-b2d5a10a-9335-41a4-a9a3-dbab506ad94f\" class=\"colab-df-container\">\n",
              "    <div>\n",
              "<style scoped>\n",
              "    .dataframe tbody tr th:only-of-type {\n",
              "        vertical-align: middle;\n",
              "    }\n",
              "\n",
              "    .dataframe tbody tr th {\n",
              "        vertical-align: top;\n",
              "    }\n",
              "\n",
              "    .dataframe thead th {\n",
              "        text-align: right;\n",
              "    }\n",
              "</style>\n",
              "<table border=\"1\" class=\"dataframe\">\n",
              "  <thead>\n",
              "    <tr style=\"text-align: right;\">\n",
              "      <th></th>\n",
              "      <th>RowNumber</th>\n",
              "      <th>CustomerId</th>\n",
              "      <th>Surname</th>\n",
              "      <th>CreditScore</th>\n",
              "      <th>Geography</th>\n",
              "      <th>Gender</th>\n",
              "      <th>Age</th>\n",
              "      <th>Tenure</th>\n",
              "      <th>Balance</th>\n",
              "      <th>NumOfProducts</th>\n",
              "      <th>HasCrCard</th>\n",
              "      <th>IsActiveMember</th>\n",
              "      <th>EstimatedSalary</th>\n",
              "      <th>Exited</th>\n",
              "    </tr>\n",
              "  </thead>\n",
              "  <tbody>\n",
              "    <tr>\n",
              "      <th>0</th>\n",
              "      <td>1</td>\n",
              "      <td>15634602</td>\n",
              "      <td>Hargrave</td>\n",
              "      <td>619</td>\n",
              "      <td>France</td>\n",
              "      <td>Female</td>\n",
              "      <td>42</td>\n",
              "      <td>2</td>\n",
              "      <td>0.00</td>\n",
              "      <td>1</td>\n",
              "      <td>1</td>\n",
              "      <td>1</td>\n",
              "      <td>101348.88</td>\n",
              "      <td>1</td>\n",
              "    </tr>\n",
              "    <tr>\n",
              "      <th>1</th>\n",
              "      <td>2</td>\n",
              "      <td>15647311</td>\n",
              "      <td>Hill</td>\n",
              "      <td>608</td>\n",
              "      <td>Spain</td>\n",
              "      <td>Female</td>\n",
              "      <td>41</td>\n",
              "      <td>1</td>\n",
              "      <td>83807.86</td>\n",
              "      <td>1</td>\n",
              "      <td>0</td>\n",
              "      <td>1</td>\n",
              "      <td>112542.58</td>\n",
              "      <td>0</td>\n",
              "    </tr>\n",
              "    <tr>\n",
              "      <th>2</th>\n",
              "      <td>3</td>\n",
              "      <td>15619304</td>\n",
              "      <td>Onio</td>\n",
              "      <td>502</td>\n",
              "      <td>France</td>\n",
              "      <td>Female</td>\n",
              "      <td>42</td>\n",
              "      <td>8</td>\n",
              "      <td>159660.80</td>\n",
              "      <td>3</td>\n",
              "      <td>1</td>\n",
              "      <td>0</td>\n",
              "      <td>113931.57</td>\n",
              "      <td>1</td>\n",
              "    </tr>\n",
              "    <tr>\n",
              "      <th>3</th>\n",
              "      <td>4</td>\n",
              "      <td>15701354</td>\n",
              "      <td>Boni</td>\n",
              "      <td>699</td>\n",
              "      <td>France</td>\n",
              "      <td>Female</td>\n",
              "      <td>39</td>\n",
              "      <td>1</td>\n",
              "      <td>0.00</td>\n",
              "      <td>2</td>\n",
              "      <td>0</td>\n",
              "      <td>0</td>\n",
              "      <td>93826.63</td>\n",
              "      <td>0</td>\n",
              "    </tr>\n",
              "    <tr>\n",
              "      <th>4</th>\n",
              "      <td>5</td>\n",
              "      <td>15737888</td>\n",
              "      <td>Mitchell</td>\n",
              "      <td>850</td>\n",
              "      <td>Spain</td>\n",
              "      <td>Female</td>\n",
              "      <td>43</td>\n",
              "      <td>2</td>\n",
              "      <td>125510.82</td>\n",
              "      <td>1</td>\n",
              "      <td>1</td>\n",
              "      <td>1</td>\n",
              "      <td>79084.10</td>\n",
              "      <td>0</td>\n",
              "    </tr>\n",
              "    <tr>\n",
              "      <th>...</th>\n",
              "      <td>...</td>\n",
              "      <td>...</td>\n",
              "      <td>...</td>\n",
              "      <td>...</td>\n",
              "      <td>...</td>\n",
              "      <td>...</td>\n",
              "      <td>...</td>\n",
              "      <td>...</td>\n",
              "      <td>...</td>\n",
              "      <td>...</td>\n",
              "      <td>...</td>\n",
              "      <td>...</td>\n",
              "      <td>...</td>\n",
              "      <td>...</td>\n",
              "    </tr>\n",
              "    <tr>\n",
              "      <th>9995</th>\n",
              "      <td>9996</td>\n",
              "      <td>15606229</td>\n",
              "      <td>Obijiaku</td>\n",
              "      <td>771</td>\n",
              "      <td>France</td>\n",
              "      <td>Male</td>\n",
              "      <td>39</td>\n",
              "      <td>5</td>\n",
              "      <td>0.00</td>\n",
              "      <td>2</td>\n",
              "      <td>1</td>\n",
              "      <td>0</td>\n",
              "      <td>96270.64</td>\n",
              "      <td>0</td>\n",
              "    </tr>\n",
              "    <tr>\n",
              "      <th>9996</th>\n",
              "      <td>9997</td>\n",
              "      <td>15569892</td>\n",
              "      <td>Johnstone</td>\n",
              "      <td>516</td>\n",
              "      <td>France</td>\n",
              "      <td>Male</td>\n",
              "      <td>35</td>\n",
              "      <td>10</td>\n",
              "      <td>57369.61</td>\n",
              "      <td>1</td>\n",
              "      <td>1</td>\n",
              "      <td>1</td>\n",
              "      <td>101699.77</td>\n",
              "      <td>0</td>\n",
              "    </tr>\n",
              "    <tr>\n",
              "      <th>9997</th>\n",
              "      <td>9998</td>\n",
              "      <td>15584532</td>\n",
              "      <td>Liu</td>\n",
              "      <td>709</td>\n",
              "      <td>France</td>\n",
              "      <td>Female</td>\n",
              "      <td>36</td>\n",
              "      <td>7</td>\n",
              "      <td>0.00</td>\n",
              "      <td>1</td>\n",
              "      <td>0</td>\n",
              "      <td>1</td>\n",
              "      <td>42085.58</td>\n",
              "      <td>1</td>\n",
              "    </tr>\n",
              "    <tr>\n",
              "      <th>9998</th>\n",
              "      <td>9999</td>\n",
              "      <td>15682355</td>\n",
              "      <td>Sabbatini</td>\n",
              "      <td>772</td>\n",
              "      <td>Germany</td>\n",
              "      <td>Male</td>\n",
              "      <td>42</td>\n",
              "      <td>3</td>\n",
              "      <td>75075.31</td>\n",
              "      <td>2</td>\n",
              "      <td>1</td>\n",
              "      <td>0</td>\n",
              "      <td>92888.52</td>\n",
              "      <td>1</td>\n",
              "    </tr>\n",
              "    <tr>\n",
              "      <th>9999</th>\n",
              "      <td>10000</td>\n",
              "      <td>15628319</td>\n",
              "      <td>Walker</td>\n",
              "      <td>792</td>\n",
              "      <td>France</td>\n",
              "      <td>Female</td>\n",
              "      <td>28</td>\n",
              "      <td>4</td>\n",
              "      <td>130142.79</td>\n",
              "      <td>1</td>\n",
              "      <td>1</td>\n",
              "      <td>0</td>\n",
              "      <td>38190.78</td>\n",
              "      <td>0</td>\n",
              "    </tr>\n",
              "  </tbody>\n",
              "</table>\n",
              "<p>10000 rows × 14 columns</p>\n",
              "</div>\n",
              "    <div class=\"colab-df-buttons\">\n",
              "\n",
              "  <div class=\"colab-df-container\">\n",
              "    <button class=\"colab-df-convert\" onclick=\"convertToInteractive('df-b2d5a10a-9335-41a4-a9a3-dbab506ad94f')\"\n",
              "            title=\"Convert this dataframe to an interactive table.\"\n",
              "            style=\"display:none;\">\n",
              "\n",
              "  <svg xmlns=\"http://www.w3.org/2000/svg\" height=\"24px\" viewBox=\"0 -960 960 960\">\n",
              "    <path d=\"M120-120v-720h720v720H120Zm60-500h600v-160H180v160Zm220 220h160v-160H400v160Zm0 220h160v-160H400v160ZM180-400h160v-160H180v160Zm440 0h160v-160H620v160ZM180-180h160v-160H180v160Zm440 0h160v-160H620v160Z\"/>\n",
              "  </svg>\n",
              "    </button>\n",
              "\n",
              "  <style>\n",
              "    .colab-df-container {\n",
              "      display:flex;\n",
              "      gap: 12px;\n",
              "    }\n",
              "\n",
              "    .colab-df-convert {\n",
              "      background-color: #E8F0FE;\n",
              "      border: none;\n",
              "      border-radius: 50%;\n",
              "      cursor: pointer;\n",
              "      display: none;\n",
              "      fill: #1967D2;\n",
              "      height: 32px;\n",
              "      padding: 0 0 0 0;\n",
              "      width: 32px;\n",
              "    }\n",
              "\n",
              "    .colab-df-convert:hover {\n",
              "      background-color: #E2EBFA;\n",
              "      box-shadow: 0px 1px 2px rgba(60, 64, 67, 0.3), 0px 1px 3px 1px rgba(60, 64, 67, 0.15);\n",
              "      fill: #174EA6;\n",
              "    }\n",
              "\n",
              "    .colab-df-buttons div {\n",
              "      margin-bottom: 4px;\n",
              "    }\n",
              "\n",
              "    [theme=dark] .colab-df-convert {\n",
              "      background-color: #3B4455;\n",
              "      fill: #D2E3FC;\n",
              "    }\n",
              "\n",
              "    [theme=dark] .colab-df-convert:hover {\n",
              "      background-color: #434B5C;\n",
              "      box-shadow: 0px 1px 3px 1px rgba(0, 0, 0, 0.15);\n",
              "      filter: drop-shadow(0px 1px 2px rgba(0, 0, 0, 0.3));\n",
              "      fill: #FFFFFF;\n",
              "    }\n",
              "  </style>\n",
              "\n",
              "    <script>\n",
              "      const buttonEl =\n",
              "        document.querySelector('#df-b2d5a10a-9335-41a4-a9a3-dbab506ad94f button.colab-df-convert');\n",
              "      buttonEl.style.display =\n",
              "        google.colab.kernel.accessAllowed ? 'block' : 'none';\n",
              "\n",
              "      async function convertToInteractive(key) {\n",
              "        const element = document.querySelector('#df-b2d5a10a-9335-41a4-a9a3-dbab506ad94f');\n",
              "        const dataTable =\n",
              "          await google.colab.kernel.invokeFunction('convertToInteractive',\n",
              "                                                    [key], {});\n",
              "        if (!dataTable) return;\n",
              "\n",
              "        const docLinkHtml = 'Like what you see? Visit the ' +\n",
              "          '<a target=\"_blank\" href=https://colab.research.google.com/notebooks/data_table.ipynb>data table notebook</a>'\n",
              "          + ' to learn more about interactive tables.';\n",
              "        element.innerHTML = '';\n",
              "        dataTable['output_type'] = 'display_data';\n",
              "        await google.colab.output.renderOutput(dataTable, element);\n",
              "        const docLink = document.createElement('div');\n",
              "        docLink.innerHTML = docLinkHtml;\n",
              "        element.appendChild(docLink);\n",
              "      }\n",
              "    </script>\n",
              "  </div>\n",
              "\n",
              "\n",
              "<div id=\"df-961a3b14-caf3-4ef1-91ed-dba9e3aa71d0\">\n",
              "  <button class=\"colab-df-quickchart\" onclick=\"quickchart('df-961a3b14-caf3-4ef1-91ed-dba9e3aa71d0')\"\n",
              "            title=\"Suggest charts.\"\n",
              "            style=\"display:none;\">\n",
              "\n",
              "<svg xmlns=\"http://www.w3.org/2000/svg\" height=\"24px\"viewBox=\"0 0 24 24\"\n",
              "     width=\"24px\">\n",
              "    <g>\n",
              "        <path d=\"M19 3H5c-1.1 0-2 .9-2 2v14c0 1.1.9 2 2 2h14c1.1 0 2-.9 2-2V5c0-1.1-.9-2-2-2zM9 17H7v-7h2v7zm4 0h-2V7h2v10zm4 0h-2v-4h2v4z\"/>\n",
              "    </g>\n",
              "</svg>\n",
              "  </button>\n",
              "\n",
              "<style>\n",
              "  .colab-df-quickchart {\n",
              "      --bg-color: #E8F0FE;\n",
              "      --fill-color: #1967D2;\n",
              "      --hover-bg-color: #E2EBFA;\n",
              "      --hover-fill-color: #174EA6;\n",
              "      --disabled-fill-color: #AAA;\n",
              "      --disabled-bg-color: #DDD;\n",
              "  }\n",
              "\n",
              "  [theme=dark] .colab-df-quickchart {\n",
              "      --bg-color: #3B4455;\n",
              "      --fill-color: #D2E3FC;\n",
              "      --hover-bg-color: #434B5C;\n",
              "      --hover-fill-color: #FFFFFF;\n",
              "      --disabled-bg-color: #3B4455;\n",
              "      --disabled-fill-color: #666;\n",
              "  }\n",
              "\n",
              "  .colab-df-quickchart {\n",
              "    background-color: var(--bg-color);\n",
              "    border: none;\n",
              "    border-radius: 50%;\n",
              "    cursor: pointer;\n",
              "    display: none;\n",
              "    fill: var(--fill-color);\n",
              "    height: 32px;\n",
              "    padding: 0;\n",
              "    width: 32px;\n",
              "  }\n",
              "\n",
              "  .colab-df-quickchart:hover {\n",
              "    background-color: var(--hover-bg-color);\n",
              "    box-shadow: 0 1px 2px rgba(60, 64, 67, 0.3), 0 1px 3px 1px rgba(60, 64, 67, 0.15);\n",
              "    fill: var(--button-hover-fill-color);\n",
              "  }\n",
              "\n",
              "  .colab-df-quickchart-complete:disabled,\n",
              "  .colab-df-quickchart-complete:disabled:hover {\n",
              "    background-color: var(--disabled-bg-color);\n",
              "    fill: var(--disabled-fill-color);\n",
              "    box-shadow: none;\n",
              "  }\n",
              "\n",
              "  .colab-df-spinner {\n",
              "    border: 2px solid var(--fill-color);\n",
              "    border-color: transparent;\n",
              "    border-bottom-color: var(--fill-color);\n",
              "    animation:\n",
              "      spin 1s steps(1) infinite;\n",
              "  }\n",
              "\n",
              "  @keyframes spin {\n",
              "    0% {\n",
              "      border-color: transparent;\n",
              "      border-bottom-color: var(--fill-color);\n",
              "      border-left-color: var(--fill-color);\n",
              "    }\n",
              "    20% {\n",
              "      border-color: transparent;\n",
              "      border-left-color: var(--fill-color);\n",
              "      border-top-color: var(--fill-color);\n",
              "    }\n",
              "    30% {\n",
              "      border-color: transparent;\n",
              "      border-left-color: var(--fill-color);\n",
              "      border-top-color: var(--fill-color);\n",
              "      border-right-color: var(--fill-color);\n",
              "    }\n",
              "    40% {\n",
              "      border-color: transparent;\n",
              "      border-right-color: var(--fill-color);\n",
              "      border-top-color: var(--fill-color);\n",
              "    }\n",
              "    60% {\n",
              "      border-color: transparent;\n",
              "      border-right-color: var(--fill-color);\n",
              "    }\n",
              "    80% {\n",
              "      border-color: transparent;\n",
              "      border-right-color: var(--fill-color);\n",
              "      border-bottom-color: var(--fill-color);\n",
              "    }\n",
              "    90% {\n",
              "      border-color: transparent;\n",
              "      border-bottom-color: var(--fill-color);\n",
              "    }\n",
              "  }\n",
              "</style>\n",
              "\n",
              "  <script>\n",
              "    async function quickchart(key) {\n",
              "      const quickchartButtonEl =\n",
              "        document.querySelector('#' + key + ' button');\n",
              "      quickchartButtonEl.disabled = true;  // To prevent multiple clicks.\n",
              "      quickchartButtonEl.classList.add('colab-df-spinner');\n",
              "      try {\n",
              "        const charts = await google.colab.kernel.invokeFunction(\n",
              "            'suggestCharts', [key], {});\n",
              "      } catch (error) {\n",
              "        console.error('Error during call to suggestCharts:', error);\n",
              "      }\n",
              "      quickchartButtonEl.classList.remove('colab-df-spinner');\n",
              "      quickchartButtonEl.classList.add('colab-df-quickchart-complete');\n",
              "    }\n",
              "    (() => {\n",
              "      let quickchartButtonEl =\n",
              "        document.querySelector('#df-961a3b14-caf3-4ef1-91ed-dba9e3aa71d0 button');\n",
              "      quickchartButtonEl.style.display =\n",
              "        google.colab.kernel.accessAllowed ? 'block' : 'none';\n",
              "    })();\n",
              "  </script>\n",
              "</div>\n",
              "    </div>\n",
              "  </div>\n"
            ]
          },
          "metadata": {},
          "execution_count": 3
        }
      ],
      "source": [
        "df"
      ]
    },
    {
      "cell_type": "code",
      "execution_count": 4,
      "id": "7ec4c39b",
      "metadata": {
        "colab": {
          "base_uri": "https://localhost:8080/"
        },
        "id": "7ec4c39b",
        "outputId": "ef15ad5e-a6ee-4120-bd85-79ff14b508f3"
      },
      "outputs": [
        {
          "output_type": "stream",
          "name": "stdout",
          "text": [
            "<class 'pandas.core.frame.DataFrame'>\n",
            "RangeIndex: 10000 entries, 0 to 9999\n",
            "Data columns (total 14 columns):\n",
            " #   Column           Non-Null Count  Dtype  \n",
            "---  ------           --------------  -----  \n",
            " 0   RowNumber        10000 non-null  int64  \n",
            " 1   CustomerId       10000 non-null  int64  \n",
            " 2   Surname          10000 non-null  object \n",
            " 3   CreditScore      10000 non-null  int64  \n",
            " 4   Geography        10000 non-null  object \n",
            " 5   Gender           10000 non-null  object \n",
            " 6   Age              10000 non-null  int64  \n",
            " 7   Tenure           10000 non-null  int64  \n",
            " 8   Balance          10000 non-null  float64\n",
            " 9   NumOfProducts    10000 non-null  int64  \n",
            " 10  HasCrCard        10000 non-null  int64  \n",
            " 11  IsActiveMember   10000 non-null  int64  \n",
            " 12  EstimatedSalary  10000 non-null  float64\n",
            " 13  Exited           10000 non-null  int64  \n",
            "dtypes: float64(2), int64(9), object(3)\n",
            "memory usage: 1.1+ MB\n"
          ]
        }
      ],
      "source": [
        "df.info()"
      ]
    },
    {
      "cell_type": "code",
      "execution_count": 5,
      "id": "cc46568a",
      "metadata": {
        "colab": {
          "base_uri": "https://localhost:8080/"
        },
        "id": "cc46568a",
        "outputId": "d01137b9-a4a4-4c8b-95f0-189b905e2a40"
      },
      "outputs": [
        {
          "output_type": "execute_result",
          "data": {
            "text/plain": [
              "0    7963\n",
              "1    2037\n",
              "Name: Exited, dtype: int64"
            ]
          },
          "metadata": {},
          "execution_count": 5
        }
      ],
      "source": [
        "df['Exited'].value_counts()"
      ]
    },
    {
      "cell_type": "code",
      "execution_count": 6,
      "id": "81e73523",
      "metadata": {
        "id": "81e73523"
      },
      "outputs": [],
      "source": [
        "df.drop(['RowNumber','CustomerId','Surname'], axis=1,inplace=True)"
      ]
    },
    {
      "cell_type": "code",
      "execution_count": 7,
      "id": "58433825",
      "metadata": {
        "colab": {
          "base_uri": "https://localhost:8080/"
        },
        "id": "58433825",
        "outputId": "6a068b07-b68a-4c0a-96f7-5b4c0daf14cf"
      },
      "outputs": [
        {
          "output_type": "stream",
          "name": "stdout",
          "text": [
            "<class 'pandas.core.frame.DataFrame'>\n",
            "RangeIndex: 10000 entries, 0 to 9999\n",
            "Data columns (total 11 columns):\n",
            " #   Column           Non-Null Count  Dtype  \n",
            "---  ------           --------------  -----  \n",
            " 0   CreditScore      10000 non-null  int64  \n",
            " 1   Geography        10000 non-null  object \n",
            " 2   Gender           10000 non-null  object \n",
            " 3   Age              10000 non-null  int64  \n",
            " 4   Tenure           10000 non-null  int64  \n",
            " 5   Balance          10000 non-null  float64\n",
            " 6   NumOfProducts    10000 non-null  int64  \n",
            " 7   HasCrCard        10000 non-null  int64  \n",
            " 8   IsActiveMember   10000 non-null  int64  \n",
            " 9   EstimatedSalary  10000 non-null  float64\n",
            " 10  Exited           10000 non-null  int64  \n",
            "dtypes: float64(2), int64(7), object(2)\n",
            "memory usage: 859.5+ KB\n"
          ]
        }
      ],
      "source": [
        "df.info()"
      ]
    },
    {
      "cell_type": "code",
      "execution_count": 8,
      "id": "ae8e38a6",
      "metadata": {
        "id": "ae8e38a6"
      },
      "outputs": [],
      "source": [
        "df=pd.get_dummies(df,columns=['Geography','Gender'], drop_first=True)"
      ]
    },
    {
      "cell_type": "code",
      "execution_count": 9,
      "id": "3566c50e",
      "metadata": {
        "colab": {
          "base_uri": "https://localhost:8080/"
        },
        "id": "3566c50e",
        "outputId": "ce3f9492-70c1-44a9-a198-97f0e8fdadbb"
      },
      "outputs": [
        {
          "output_type": "stream",
          "name": "stdout",
          "text": [
            "<class 'pandas.core.frame.DataFrame'>\n",
            "RangeIndex: 10000 entries, 0 to 9999\n",
            "Data columns (total 12 columns):\n",
            " #   Column             Non-Null Count  Dtype  \n",
            "---  ------             --------------  -----  \n",
            " 0   CreditScore        10000 non-null  int64  \n",
            " 1   Age                10000 non-null  int64  \n",
            " 2   Tenure             10000 non-null  int64  \n",
            " 3   Balance            10000 non-null  float64\n",
            " 4   NumOfProducts      10000 non-null  int64  \n",
            " 5   HasCrCard          10000 non-null  int64  \n",
            " 6   IsActiveMember     10000 non-null  int64  \n",
            " 7   EstimatedSalary    10000 non-null  float64\n",
            " 8   Exited             10000 non-null  int64  \n",
            " 9   Geography_Germany  10000 non-null  uint8  \n",
            " 10  Geography_Spain    10000 non-null  uint8  \n",
            " 11  Gender_Male        10000 non-null  uint8  \n",
            "dtypes: float64(2), int64(7), uint8(3)\n",
            "memory usage: 732.5 KB\n"
          ]
        }
      ],
      "source": [
        "df.info()"
      ]
    },
    {
      "cell_type": "code",
      "execution_count": 10,
      "id": "32dfa4c0",
      "metadata": {
        "id": "32dfa4c0"
      },
      "outputs": [],
      "source": [
        "feature=df.drop(['Exited'], axis=1)\n",
        "target= df['Exited']"
      ]
    },
    {
      "cell_type": "code",
      "execution_count": 11,
      "id": "4d5f3307",
      "metadata": {
        "id": "4d5f3307"
      },
      "outputs": [],
      "source": [
        "from sklearn.model_selection import train_test_split\n",
        "xtrain,xtest,ytrain,ytest=train_test_split(feature,target, test_size=0.2, random_state=12)"
      ]
    },
    {
      "cell_type": "code",
      "execution_count": 12,
      "id": "2dacb323",
      "metadata": {
        "id": "2dacb323"
      },
      "outputs": [],
      "source": [
        "from sklearn.preprocessing import StandardScaler\n",
        "sc=StandardScaler()"
      ]
    },
    {
      "cell_type": "code",
      "execution_count": 13,
      "id": "14f6addd",
      "metadata": {
        "id": "14f6addd"
      },
      "outputs": [],
      "source": [
        "xtrainscaled=sc.fit_transform(xtrain)\n",
        "xtestscaled = sc.transform(xtest)"
      ]
    },
    {
      "cell_type": "code",
      "execution_count": 14,
      "id": "58a98df6",
      "metadata": {
        "colab": {
          "base_uri": "https://localhost:8080/"
        },
        "id": "58a98df6",
        "outputId": "d24d875f-77c7-4b7e-d3ed-5b297c4dd9da"
      },
      "outputs": [
        {
          "output_type": "execute_result",
          "data": {
            "text/plain": [
              "array([[ 0.72682704,  0.19876101,  0.68138259, ..., -0.57792762,\n",
              "        -0.57003687,  0.91025899],\n",
              "       [ 0.932858  , -0.2771138 , -0.7041574 , ..., -0.57792762,\n",
              "        -0.57003687, -1.09858844],\n",
              "       [-0.72569129,  1.05533567, -1.74331239, ..., -0.57792762,\n",
              "        -0.57003687,  0.91025899],\n",
              "       ...,\n",
              "       [-1.27167336, -0.65781365,  0.68138259, ..., -0.57792762,\n",
              "        -0.57003687, -1.09858844],\n",
              "       [-1.302578  ,  0.4842859 ,  1.72053757, ..., -0.57792762,\n",
              "        -0.57003687,  0.91025899],\n",
              "       [ 0.80923942, -1.22886342, -0.3577724 , ...,  1.73032049,\n",
              "        -0.57003687,  0.91025899]])"
            ]
          },
          "metadata": {},
          "execution_count": 14
        }
      ],
      "source": [
        "xtrainscaled"
      ]
    },
    {
      "cell_type": "code",
      "execution_count": 15,
      "id": "f2a00f39",
      "metadata": {
        "id": "f2a00f39"
      },
      "outputs": [],
      "source": [
        "#pip install tensorflow"
      ]
    },
    {
      "cell_type": "code",
      "execution_count": 16,
      "id": "ceeccb6e",
      "metadata": {
        "id": "ceeccb6e"
      },
      "outputs": [],
      "source": [
        "import tensorflow as tf\n",
        "from tensorflow import keras\n",
        "from tensorflow.keras import Sequential\n",
        "from tensorflow.keras.layers import Dense"
      ]
    },
    {
      "cell_type": "code",
      "execution_count": 17,
      "id": "82e4adcd",
      "metadata": {
        "id": "82e4adcd"
      },
      "outputs": [],
      "source": [
        "model = Sequential()"
      ]
    },
    {
      "cell_type": "code",
      "execution_count": 18,
      "id": "c4cc2e80",
      "metadata": {
        "id": "c4cc2e80"
      },
      "outputs": [],
      "source": [
        "model.add(Dense(10, activation = 'relu', input_dim = 11))\n",
        "model.add(Dense (10, activation= 'relu'))\n",
        "model.add(Dense(1, activation = 'sigmoid'))"
      ]
    },
    {
      "cell_type": "code",
      "execution_count": 19,
      "id": "e7cf5a7e",
      "metadata": {
        "colab": {
          "base_uri": "https://localhost:8080/"
        },
        "id": "e7cf5a7e",
        "outputId": "0fef3437-15fa-4df1-ea0a-29dd86298ee4"
      },
      "outputs": [
        {
          "output_type": "stream",
          "name": "stdout",
          "text": [
            "Model: \"sequential\"\n",
            "_________________________________________________________________\n",
            " Layer (type)                Output Shape              Param #   \n",
            "=================================================================\n",
            " dense (Dense)               (None, 10)                120       \n",
            "                                                                 \n",
            " dense_1 (Dense)             (None, 10)                110       \n",
            "                                                                 \n",
            " dense_2 (Dense)             (None, 1)                 11        \n",
            "                                                                 \n",
            "=================================================================\n",
            "Total params: 241 (964.00 Byte)\n",
            "Trainable params: 241 (964.00 Byte)\n",
            "Non-trainable params: 0 (0.00 Byte)\n",
            "_________________________________________________________________\n"
          ]
        }
      ],
      "source": [
        "model.summary()"
      ]
    },
    {
      "cell_type": "code",
      "execution_count": 20,
      "id": "f5678c82",
      "metadata": {
        "id": "f5678c82"
      },
      "outputs": [],
      "source": [
        "model.compile(loss='binary_crossentropy', optimizer='Adam', metrics=['accuracy'])"
      ]
    },
    {
      "cell_type": "code",
      "execution_count": 21,
      "id": "2af34a07",
      "metadata": {
        "colab": {
          "base_uri": "https://localhost:8080/"
        },
        "id": "2af34a07",
        "outputId": "18f6256c-802e-4215-878c-8e4f3ff4917a"
      },
      "outputs": [
        {
          "output_type": "stream",
          "name": "stdout",
          "text": [
            "Epoch 1/18\n",
            "200/200 [==============================] - 2s 7ms/step - loss: 0.5201 - accuracy: 0.7680 - val_loss: 0.4585 - val_accuracy: 0.8019\n",
            "Epoch 2/18\n",
            "200/200 [==============================] - 1s 6ms/step - loss: 0.4413 - accuracy: 0.8042 - val_loss: 0.4360 - val_accuracy: 0.8069\n",
            "Epoch 3/18\n",
            "200/200 [==============================] - 1s 7ms/step - loss: 0.4259 - accuracy: 0.8097 - val_loss: 0.4276 - val_accuracy: 0.8150\n",
            "Epoch 4/18\n",
            "200/200 [==============================] - 1s 5ms/step - loss: 0.4174 - accuracy: 0.8186 - val_loss: 0.4220 - val_accuracy: 0.8219\n",
            "Epoch 5/18\n",
            "200/200 [==============================] - 1s 7ms/step - loss: 0.4102 - accuracy: 0.8231 - val_loss: 0.4166 - val_accuracy: 0.8281\n",
            "Epoch 6/18\n",
            "200/200 [==============================] - 2s 11ms/step - loss: 0.4043 - accuracy: 0.8283 - val_loss: 0.4109 - val_accuracy: 0.8275\n",
            "Epoch 7/18\n",
            "200/200 [==============================] - 1s 6ms/step - loss: 0.3974 - accuracy: 0.8348 - val_loss: 0.4039 - val_accuracy: 0.8300\n",
            "Epoch 8/18\n",
            "200/200 [==============================] - 1s 6ms/step - loss: 0.3903 - accuracy: 0.8370 - val_loss: 0.3955 - val_accuracy: 0.8338\n",
            "Epoch 9/18\n",
            "200/200 [==============================] - 1s 6ms/step - loss: 0.3823 - accuracy: 0.8430 - val_loss: 0.3895 - val_accuracy: 0.8406\n",
            "Epoch 10/18\n",
            "200/200 [==============================] - 1s 6ms/step - loss: 0.3757 - accuracy: 0.8475 - val_loss: 0.3788 - val_accuracy: 0.8419\n",
            "Epoch 11/18\n",
            "200/200 [==============================] - 1s 5ms/step - loss: 0.3681 - accuracy: 0.8539 - val_loss: 0.3721 - val_accuracy: 0.8444\n",
            "Epoch 12/18\n",
            "200/200 [==============================] - 2s 8ms/step - loss: 0.3618 - accuracy: 0.8550 - val_loss: 0.3657 - val_accuracy: 0.8506\n",
            "Epoch 13/18\n",
            "200/200 [==============================] - 1s 6ms/step - loss: 0.3569 - accuracy: 0.8587 - val_loss: 0.3606 - val_accuracy: 0.8506\n",
            "Epoch 14/18\n",
            "200/200 [==============================] - 1s 6ms/step - loss: 0.3528 - accuracy: 0.8597 - val_loss: 0.3582 - val_accuracy: 0.8531\n",
            "Epoch 15/18\n",
            "200/200 [==============================] - 2s 11ms/step - loss: 0.3499 - accuracy: 0.8612 - val_loss: 0.3541 - val_accuracy: 0.8519\n",
            "Epoch 16/18\n",
            "200/200 [==============================] - 2s 8ms/step - loss: 0.3472 - accuracy: 0.8597 - val_loss: 0.3521 - val_accuracy: 0.8531\n",
            "Epoch 17/18\n",
            "200/200 [==============================] - 1s 6ms/step - loss: 0.3453 - accuracy: 0.8623 - val_loss: 0.3516 - val_accuracy: 0.8562\n",
            "Epoch 18/18\n",
            "200/200 [==============================] - 1s 6ms/step - loss: 0.3436 - accuracy: 0.8631 - val_loss: 0.3514 - val_accuracy: 0.8556\n"
          ]
        }
      ],
      "source": [
        "history=model.fit(xtrainscaled, ytrain, epochs=18, validation_split=0.2)"
      ]
    },
    {
      "cell_type": "code",
      "execution_count": 22,
      "id": "38f9468b",
      "metadata": {
        "colab": {
          "base_uri": "https://localhost:8080/"
        },
        "id": "38f9468b",
        "outputId": "b6a79357-11f5-4fa7-cf26-891339680649"
      },
      "outputs": [
        {
          "output_type": "execute_result",
          "data": {
            "text/plain": [
              "{'loss': [0.520077645778656,\n",
              "  0.4412742555141449,\n",
              "  0.42585545778274536,\n",
              "  0.41735801100730896,\n",
              "  0.4102301001548767,\n",
              "  0.40432754158973694,\n",
              "  0.3973616659641266,\n",
              "  0.39029282331466675,\n",
              "  0.38229215145111084,\n",
              "  0.3757461607456207,\n",
              "  0.3681415915489197,\n",
              "  0.3618497848510742,\n",
              "  0.35686972737312317,\n",
              "  0.35277554392814636,\n",
              "  0.34988167881965637,\n",
              "  0.3471865952014923,\n",
              "  0.34530675411224365,\n",
              "  0.3435753285884857],\n",
              " 'accuracy': [0.7679687738418579,\n",
              "  0.8042187690734863,\n",
              "  0.8096874952316284,\n",
              "  0.8185937404632568,\n",
              "  0.8231250047683716,\n",
              "  0.8282812237739563,\n",
              "  0.8348437547683716,\n",
              "  0.8370312452316284,\n",
              "  0.842968761920929,\n",
              "  0.8475000262260437,\n",
              "  0.8539062738418579,\n",
              "  0.8550000190734863,\n",
              "  0.8587499856948853,\n",
              "  0.8596875071525574,\n",
              "  0.8612499833106995,\n",
              "  0.8596875071525574,\n",
              "  0.8623437285423279,\n",
              "  0.8631250262260437],\n",
              " 'val_loss': [0.4585131108760834,\n",
              "  0.435970276594162,\n",
              "  0.4275669753551483,\n",
              "  0.4220322370529175,\n",
              "  0.41663673520088196,\n",
              "  0.41093865036964417,\n",
              "  0.40386947989463806,\n",
              "  0.3955215513706207,\n",
              "  0.3895357549190521,\n",
              "  0.3787897229194641,\n",
              "  0.37206822633743286,\n",
              "  0.365653395652771,\n",
              "  0.3605996072292328,\n",
              "  0.35815727710723877,\n",
              "  0.3541206121444702,\n",
              "  0.35213229060173035,\n",
              "  0.3516102731227875,\n",
              "  0.3514382541179657],\n",
              " 'val_accuracy': [0.8018749952316284,\n",
              "  0.8068749904632568,\n",
              "  0.8149999976158142,\n",
              "  0.8218749761581421,\n",
              "  0.828125,\n",
              "  0.8274999856948853,\n",
              "  0.8299999833106995,\n",
              "  0.8337500095367432,\n",
              "  0.840624988079071,\n",
              "  0.8418750166893005,\n",
              "  0.8443750143051147,\n",
              "  0.8506249785423279,\n",
              "  0.8506249785423279,\n",
              "  0.8531249761581421,\n",
              "  0.8518750071525574,\n",
              "  0.8531249761581421,\n",
              "  0.856249988079071,\n",
              "  0.8556249737739563]}"
            ]
          },
          "metadata": {},
          "execution_count": 22
        }
      ],
      "source": [
        "history.history"
      ]
    },
    {
      "cell_type": "code",
      "execution_count": 23,
      "id": "46da2e93",
      "metadata": {
        "colab": {
          "base_uri": "https://localhost:8080/",
          "height": 447
        },
        "id": "46da2e93",
        "outputId": "9801450e-13f1-4805-ddda-75eccd34b881"
      },
      "outputs": [
        {
          "output_type": "execute_result",
          "data": {
            "text/plain": [
              "[<matplotlib.lines.Line2D at 0x7d37db721150>]"
            ]
          },
          "metadata": {},
          "execution_count": 23
        },
        {
          "output_type": "display_data",
          "data": {
            "text/plain": [
              "<Figure size 640x480 with 1 Axes>"
            ],
            "image/png": "[encoded data removed]"
          },
          "metadata": {}
        }
      ],
      "source": [
        "plt.plot(history.history['loss'])\n",
        "plt.plot(history.history['val_loss'])"
      ]
    },
    {
      "cell_type": "code",
      "execution_count": 24,
      "id": "16af04f6",
      "metadata": {
        "colab": {
          "base_uri": "https://localhost:8080/",
          "height": 447
        },
        "id": "16af04f6",
        "outputId": "9c73177c-d75f-4c9d-df14-d323565e786b"
      },
      "outputs": [
        {
          "output_type": "execute_result",
          "data": {
            "text/plain": [
              "[<matplotlib.lines.Line2D at 0x7d37db615d50>]"
            ]
          },
          "metadata": {},
          "execution_count": 24
        },
        {
          "output_type": "display_data",
          "data": {
            "text/plain": [
              "<Figure size 640x480 with 1 Axes>"
            ],
            "image/png": "[encoded data removed]"
          },
          "metadata": {}
        }
      ],
      "source": [
        "plt.plot(history.history['accuracy'])\n",
        "plt.plot(history.history['val_accuracy'])"
      ]
    },
    {
      "cell_type": "code",
      "execution_count": 25,
      "id": "ed17cc38",
      "metadata": {
        "colab": {
          "base_uri": "https://localhost:8080/"
        },
        "id": "ed17cc38",
        "outputId": "e6895e81-59b3-42c9-b25a-787caaf9eb4f"
      },
      "outputs": [
        {
          "output_type": "execute_result",
          "data": {
            "text/plain": [
              "[array([[-0.21466228,  0.11595375, -0.0999874 ,  0.05373632,  0.16623569,\n",
              "         -0.37431872, -0.1357858 ,  0.11603434, -0.25081494,  0.37264124],\n",
              "        [-0.31628957,  0.42688072, -0.60764927, -0.8746821 , -0.7020712 ,\n",
              "         -0.65349066,  0.27637088,  0.11536749,  0.48624438, -0.5055537 ],\n",
              "        [-0.09532367, -0.09674054, -0.06577785, -0.10129806, -0.09586563,\n",
              "          0.4836653 , -0.18393181, -0.13705306,  0.34024873,  0.2824676 ],\n",
              "        [ 0.07421424,  0.10284328, -0.14970215,  0.26399916, -0.39578226,\n",
              "          0.34166342,  0.19765344, -0.09006798,  0.02564165,  0.36147326],\n",
              "        [ 0.09286609, -0.07986534,  0.108338  ,  0.0177787 ,  0.21460672,\n",
              "         -0.43068102,  1.0697353 , -1.0611687 , -0.35652104,  0.7100515 ],\n",
              "        [-0.33264846,  0.19024576, -0.25232968, -0.21467927,  0.14957334,\n",
              "          0.37646592,  0.01097263, -0.0989129 , -0.21135248, -0.24165238],\n",
              "        [-0.04168593,  0.78153896, -0.00128004, -0.4447411 ,  0.13651532,\n",
              "          0.27514613, -0.13688144, -0.14879285, -0.6914779 ,  0.39209783],\n",
              "        [-0.60104215, -0.06200755,  0.1627028 , -0.06965656,  0.08860111,\n",
              "          0.21272838,  0.01998052, -0.12057616,  0.25824454, -0.06820749],\n",
              "        [-0.6503263 , -0.14981459,  0.01020422, -0.12700236, -0.00674003,\n",
              "          0.11246148,  0.01244027,  0.11135365, -0.04520792, -0.6403881 ],\n",
              "        [ 0.01012272, -0.27079386, -0.23126821, -0.45242032,  0.22173859,\n",
              "          0.3812103 , -0.08415419, -0.2927158 ,  0.12745386, -0.1307301 ],\n",
              "        [ 0.31888297, -0.18399057,  0.67506933, -0.39371175,  0.40574607,\n",
              "         -0.31306866, -0.15485932, -0.3013697 ,  0.2675275 ,  0.11805439]],\n",
              "       dtype=float32),\n",
              " array([ 0.16379905,  0.13565388,  0.33217144,  0.4953717 ,  0.52634376,\n",
              "         0.18313293, -0.43216568,  0.32592493,  0.15066253,  0.5053593 ],\n",
              "       dtype=float32)]"
            ]
          },
          "metadata": {},
          "execution_count": 25
        }
      ],
      "source": [
        "model.layers[0].get_weights()"
      ]
    },
    {
      "cell_type": "code",
      "execution_count": 26,
      "id": "d66671dd",
      "metadata": {
        "colab": {
          "base_uri": "https://localhost:8080/"
        },
        "id": "d66671dd",
        "outputId": "fcf1ccb9-d546-40b0-809c-46471a6e95bf"
      },
      "outputs": [
        {
          "output_type": "stream",
          "name": "stdout",
          "text": [
            "63/63 [==============================] - 0s 4ms/step\n"
          ]
        }
      ],
      "source": [
        "ypred = np.where(model.predict(xtestscaled)>=0.5,1,0)"
      ]
    },
    {
      "cell_type": "code",
      "execution_count": 27,
      "id": "95643a0e",
      "metadata": {
        "colab": {
          "base_uri": "https://localhost:8080/"
        },
        "id": "95643a0e",
        "outputId": "e929314a-aae5-4141-bc00-6250f20c3bc0"
      },
      "outputs": [
        {
          "output_type": "execute_result",
          "data": {
            "text/plain": [
              "array([[0],\n",
              "       [0],\n",
              "       [1],\n",
              "       ...,\n",
              "       [0],\n",
              "       [1],\n",
              "       [0]])"
            ]
          },
          "metadata": {},
          "execution_count": 27
        }
      ],
      "source": [
        "ypred"
      ]
    },
    {
      "cell_type": "code",
      "execution_count": 28,
      "id": "9b731584",
      "metadata": {
        "id": "9b731584"
      },
      "outputs": [],
      "source": [
        "from sklearn.metrics import accuracy_score"
      ]
    },
    {
      "cell_type": "code",
      "execution_count": 29,
      "id": "12da3f06",
      "metadata": {
        "colab": {
          "base_uri": "https://localhost:8080/"
        },
        "id": "12da3f06",
        "outputId": "5f20df18-af3c-4878-a790-c29670844a5e"
      },
      "outputs": [
        {
          "output_type": "execute_result",
          "data": {
            "text/plain": [
              "0.8575"
            ]
          },
          "metadata": {},
          "execution_count": 29
        }
      ],
      "source": [
        "accuracy_score(ytest, ypred)"
      ]
    },
    {
      "cell_type": "code",
      "execution_count": 30,
      "id": "08779e19",
      "metadata": {
        "id": "08779e19"
      },
      "outputs": [],
      "source": [
        "#pip install imblearn"
      ]
    },
    {
      "cell_type": "code",
      "execution_count": 31,
      "id": "92f446fc",
      "metadata": {
        "colab": {
          "base_uri": "https://localhost:8080/",
          "height": 35
        },
        "id": "92f446fc",
        "outputId": "07a5343e-fe51-43e8-d68c-f16f5abca85c"
      },
      "outputs": [
        {
          "output_type": "execute_result",
          "data": {
            "text/plain": [
              "\"counter = counter(ytrainsm)\\nprint('after',counter)\""
            ],
            "application/vnd.google.colaboratory.intrinsic+json": {
              "type": "string"
            }
          },
          "metadata": {},
          "execution_count": 31
        }
      ],
      "source": [
        "from imblearn.over_sampling import SMOTE\n",
        "\"\"\"counter = counter(ytrain)\n",
        "print('before',counter)\"\"\"\n",
        "smt = SMOTE()\n",
        "xtrainsm,ytrainsm = smt.fit_resample(xtrain, ytrain)\n",
        "\"\"\"counter = counter(ytrainsm)\n",
        "print('after',counter)\"\"\""
      ]
    },
    {
      "cell_type": "code",
      "source": [],
      "metadata": {
        "id": "rb_GkLUHNT0P"
      },
      "id": "rb_GkLUHNT0P",
      "execution_count": 31,
      "outputs": []
    },
    {
      "cell_type": "code",
      "execution_count": 32,
      "id": "0b728d34",
      "metadata": {
        "colab": {
          "base_uri": "https://localhost:8080/"
        },
        "id": "0b728d34",
        "outputId": "b55d5bbb-0d14-4b13-f2f0-736d6c202a71"
      },
      "outputs": [
        {
          "output_type": "execute_result",
          "data": {
            "text/plain": [
              "0    6399\n",
              "1    6399\n",
              "Name: Exited, dtype: int64"
            ]
          },
          "metadata": {},
          "execution_count": 32
        }
      ],
      "source": [
        "ytrainsm.value_counts()"
      ]
    },
    {
      "cell_type": "code",
      "source": [
        "from sklearn.preprocessing import StandardScaler"
      ],
      "metadata": {
        "id": "hCuqH_svMoW1"
      },
      "id": "hCuqH_svMoW1",
      "execution_count": 33,
      "outputs": []
    },
    {
      "cell_type": "code",
      "source": [
        "sc= StandardScaler()\n",
        "xtrainsmsc=sc.fit_transform(xtrainsm)\n",
        "xtestsmsc = sc.transform(xtest)"
      ],
      "metadata": {
        "id": "WoSL8TTgNaLW"
      },
      "id": "WoSL8TTgNaLW",
      "execution_count": 34,
      "outputs": []
    },
    {
      "cell_type": "code",
      "source": [
        "model1= Sequential()\n",
        "model1.add(Dense(10, activation = 'relu', input_dim = 11))\n",
        "model1.add(Dense (10, activation= 'relu'))\n",
        "model1.add(Dense(1, activation = 'sigmoid'))"
      ],
      "metadata": {
        "id": "wnZsfuucNzoA"
      },
      "id": "wnZsfuucNzoA",
      "execution_count": 35,
      "outputs": []
    },
    {
      "cell_type": "code",
      "source": [
        "model1.summary()"
      ],
      "metadata": {
        "colab": {
          "base_uri": "https://localhost:8080/"
        },
        "id": "PjqujL5hOALH",
        "outputId": "29ba975f-7a7d-412c-804e-bc69fc179e04"
      },
      "id": "PjqujL5hOALH",
      "execution_count": 36,
      "outputs": [
        {
          "output_type": "stream",
          "name": "stdout",
          "text": [
            "Model: \"sequential_1\"\n",
            "_________________________________________________________________\n",
            " Layer (type)                Output Shape              Param #   \n",
            "=================================================================\n",
            " dense_3 (Dense)             (None, 10)                120       \n",
            "                                                                 \n",
            " dense_4 (Dense)             (None, 10)                110       \n",
            "                                                                 \n",
            " dense_5 (Dense)             (None, 1)                 11        \n",
            "                                                                 \n",
            "=================================================================\n",
            "Total params: 241 (964.00 Byte)\n",
            "Trainable params: 241 (964.00 Byte)\n",
            "Non-trainable params: 0 (0.00 Byte)\n",
            "_________________________________________________________________\n"
          ]
        }
      ]
    },
    {
      "cell_type": "code",
      "source": [
        "model1.compile(loss='binary_crossentropy', optimizer='adam', metrics=['accuracy'])"
      ],
      "metadata": {
        "id": "IPrRnn7zOGfl"
      },
      "id": "IPrRnn7zOGfl",
      "execution_count": 37,
      "outputs": []
    },
    {
      "cell_type": "code",
      "source": [
        "history1=model1.fit(xtrainsmsc, ytrainsm,epochs=50, validation_split=0.2)"
      ],
      "metadata": {
        "colab": {
          "base_uri": "https://localhost:8080/"
        },
        "id": "lCW1skg_OvWf",
        "outputId": "c0c9427e-6529-4786-90d4-987961d45839"
      },
      "id": "lCW1skg_OvWf",
      "execution_count": 38,
      "outputs": [
        {
          "output_type": "stream",
          "name": "stdout",
          "text": [
            "Epoch 1/50\n",
            "320/320 [==============================] - 3s 4ms/step - loss: 0.6055 - accuracy: 0.6497 - val_loss: 0.6633 - val_accuracy: 0.6848\n",
            "Epoch 2/50\n",
            "320/320 [==============================] - 1s 3ms/step - loss: 0.4858 - accuracy: 0.7679 - val_loss: 0.4929 - val_accuracy: 0.7891\n",
            "Epoch 3/50\n",
            "320/320 [==============================] - 1s 5ms/step - loss: 0.4583 - accuracy: 0.7833 - val_loss: 0.5030 - val_accuracy: 0.7777\n",
            "Epoch 4/50\n",
            "320/320 [==============================] - 1s 4ms/step - loss: 0.4411 - accuracy: 0.7922 - val_loss: 0.4637 - val_accuracy: 0.8012\n",
            "Epoch 5/50\n",
            "320/320 [==============================] - 1s 3ms/step - loss: 0.4281 - accuracy: 0.8027 - val_loss: 0.4593 - val_accuracy: 0.8004\n",
            "Epoch 6/50\n",
            "320/320 [==============================] - 1s 3ms/step - loss: 0.4191 - accuracy: 0.8071 - val_loss: 0.4584 - val_accuracy: 0.7937\n",
            "Epoch 7/50\n",
            "320/320 [==============================] - 1s 3ms/step - loss: 0.4125 - accuracy: 0.8089 - val_loss: 0.4186 - val_accuracy: 0.8145\n",
            "Epoch 8/50\n",
            "320/320 [==============================] - 1s 3ms/step - loss: 0.4075 - accuracy: 0.8109 - val_loss: 0.4336 - val_accuracy: 0.7988\n",
            "Epoch 9/50\n",
            "320/320 [==============================] - 1s 3ms/step - loss: 0.4040 - accuracy: 0.8167 - val_loss: 0.4013 - val_accuracy: 0.8184\n",
            "Epoch 10/50\n",
            "320/320 [==============================] - 1s 3ms/step - loss: 0.4008 - accuracy: 0.8168 - val_loss: 0.4286 - val_accuracy: 0.7984\n",
            "Epoch 11/50\n",
            "320/320 [==============================] - 1s 3ms/step - loss: 0.3983 - accuracy: 0.8197 - val_loss: 0.4088 - val_accuracy: 0.8098\n",
            "Epoch 12/50\n",
            "320/320 [==============================] - 1s 3ms/step - loss: 0.3963 - accuracy: 0.8205 - val_loss: 0.4288 - val_accuracy: 0.8027\n",
            "Epoch 13/50\n",
            "320/320 [==============================] - 1s 3ms/step - loss: 0.3947 - accuracy: 0.8216 - val_loss: 0.4421 - val_accuracy: 0.7906\n",
            "Epoch 14/50\n",
            "320/320 [==============================] - 1s 3ms/step - loss: 0.3929 - accuracy: 0.8218 - val_loss: 0.4469 - val_accuracy: 0.7840\n",
            "Epoch 15/50\n",
            "320/320 [==============================] - 1s 3ms/step - loss: 0.3911 - accuracy: 0.8215 - val_loss: 0.4121 - val_accuracy: 0.8094\n",
            "Epoch 16/50\n",
            "320/320 [==============================] - 1s 4ms/step - loss: 0.3903 - accuracy: 0.8240 - val_loss: 0.4008 - val_accuracy: 0.8184\n",
            "Epoch 17/50\n",
            "320/320 [==============================] - 1s 4ms/step - loss: 0.3891 - accuracy: 0.8256 - val_loss: 0.4522 - val_accuracy: 0.7852\n",
            "Epoch 18/50\n",
            "320/320 [==============================] - 1s 3ms/step - loss: 0.3889 - accuracy: 0.8258 - val_loss: 0.4141 - val_accuracy: 0.8094\n",
            "Epoch 19/50\n",
            "320/320 [==============================] - 1s 3ms/step - loss: 0.3880 - accuracy: 0.8262 - val_loss: 0.4354 - val_accuracy: 0.7945\n",
            "Epoch 20/50\n",
            "320/320 [==============================] - 1s 3ms/step - loss: 0.3876 - accuracy: 0.8252 - val_loss: 0.3914 - val_accuracy: 0.8258\n",
            "Epoch 21/50\n",
            "320/320 [==============================] - 1s 3ms/step - loss: 0.3871 - accuracy: 0.8270 - val_loss: 0.4422 - val_accuracy: 0.7887\n",
            "Epoch 22/50\n",
            "320/320 [==============================] - 1s 3ms/step - loss: 0.3862 - accuracy: 0.8256 - val_loss: 0.4378 - val_accuracy: 0.7977\n",
            "Epoch 23/50\n",
            "320/320 [==============================] - 1s 3ms/step - loss: 0.3859 - accuracy: 0.8258 - val_loss: 0.4336 - val_accuracy: 0.7973\n",
            "Epoch 24/50\n",
            "320/320 [==============================] - 1s 3ms/step - loss: 0.3853 - accuracy: 0.8277 - val_loss: 0.4382 - val_accuracy: 0.7902\n",
            "Epoch 25/50\n",
            "320/320 [==============================] - 1s 3ms/step - loss: 0.3849 - accuracy: 0.8263 - val_loss: 0.3612 - val_accuracy: 0.8465\n",
            "Epoch 26/50\n",
            "320/320 [==============================] - 1s 3ms/step - loss: 0.3849 - accuracy: 0.8263 - val_loss: 0.3895 - val_accuracy: 0.8277\n",
            "Epoch 27/50\n",
            "320/320 [==============================] - 1s 3ms/step - loss: 0.3843 - accuracy: 0.8267 - val_loss: 0.4078 - val_accuracy: 0.8203\n",
            "Epoch 28/50\n",
            "320/320 [==============================] - 1s 3ms/step - loss: 0.3837 - accuracy: 0.8279 - val_loss: 0.4422 - val_accuracy: 0.7930\n",
            "Epoch 29/50\n",
            "320/320 [==============================] - 1s 4ms/step - loss: 0.3832 - accuracy: 0.8275 - val_loss: 0.4407 - val_accuracy: 0.7988\n",
            "Epoch 30/50\n",
            "320/320 [==============================] - 1s 4ms/step - loss: 0.3829 - accuracy: 0.8279 - val_loss: 0.3928 - val_accuracy: 0.8238\n",
            "Epoch 31/50\n",
            "320/320 [==============================] - 1s 3ms/step - loss: 0.3825 - accuracy: 0.8293 - val_loss: 0.4545 - val_accuracy: 0.7855\n",
            "Epoch 32/50\n",
            "320/320 [==============================] - 1s 3ms/step - loss: 0.3819 - accuracy: 0.8297 - val_loss: 0.4426 - val_accuracy: 0.7957\n",
            "Epoch 33/50\n",
            "320/320 [==============================] - 1s 3ms/step - loss: 0.3816 - accuracy: 0.8307 - val_loss: 0.4001 - val_accuracy: 0.8203\n",
            "Epoch 34/50\n",
            "320/320 [==============================] - 1s 3ms/step - loss: 0.3818 - accuracy: 0.8286 - val_loss: 0.4010 - val_accuracy: 0.8223\n",
            "Epoch 35/50\n",
            "320/320 [==============================] - 1s 3ms/step - loss: 0.3810 - accuracy: 0.8297 - val_loss: 0.3987 - val_accuracy: 0.8238\n",
            "Epoch 36/50\n",
            "320/320 [==============================] - 1s 3ms/step - loss: 0.3813 - accuracy: 0.8270 - val_loss: 0.3810 - val_accuracy: 0.8273\n",
            "Epoch 37/50\n",
            "320/320 [==============================] - 1s 3ms/step - loss: 0.3813 - accuracy: 0.8280 - val_loss: 0.3941 - val_accuracy: 0.8230\n",
            "Epoch 38/50\n",
            "320/320 [==============================] - 1s 3ms/step - loss: 0.3803 - accuracy: 0.8283 - val_loss: 0.4275 - val_accuracy: 0.8031\n",
            "Epoch 39/50\n",
            "320/320 [==============================] - 1s 3ms/step - loss: 0.3802 - accuracy: 0.8299 - val_loss: 0.3758 - val_accuracy: 0.8363\n",
            "Epoch 40/50\n",
            "320/320 [==============================] - 1s 3ms/step - loss: 0.3799 - accuracy: 0.8294 - val_loss: 0.4230 - val_accuracy: 0.8074\n",
            "Epoch 41/50\n",
            "320/320 [==============================] - 1s 3ms/step - loss: 0.3797 - accuracy: 0.8287 - val_loss: 0.4126 - val_accuracy: 0.8129\n",
            "Epoch 42/50\n",
            "320/320 [==============================] - 2s 5ms/step - loss: 0.3795 - accuracy: 0.8262 - val_loss: 0.4052 - val_accuracy: 0.8184\n",
            "Epoch 43/50\n",
            "320/320 [==============================] - 1s 4ms/step - loss: 0.3790 - accuracy: 0.8289 - val_loss: 0.4250 - val_accuracy: 0.8059\n",
            "Epoch 44/50\n",
            "320/320 [==============================] - 1s 3ms/step - loss: 0.3789 - accuracy: 0.8286 - val_loss: 0.4701 - val_accuracy: 0.7777\n",
            "Epoch 45/50\n",
            "320/320 [==============================] - 1s 3ms/step - loss: 0.3787 - accuracy: 0.8297 - val_loss: 0.4065 - val_accuracy: 0.8176\n",
            "Epoch 46/50\n",
            "320/320 [==============================] - 1s 3ms/step - loss: 0.3781 - accuracy: 0.8291 - val_loss: 0.4043 - val_accuracy: 0.8184\n",
            "Epoch 47/50\n",
            "320/320 [==============================] - 1s 3ms/step - loss: 0.3785 - accuracy: 0.8277 - val_loss: 0.3638 - val_accuracy: 0.8438\n",
            "Epoch 48/50\n",
            "320/320 [==============================] - 1s 3ms/step - loss: 0.3778 - accuracy: 0.8302 - val_loss: 0.4361 - val_accuracy: 0.7898\n",
            "Epoch 49/50\n",
            "320/320 [==============================] - 1s 3ms/step - loss: 0.3777 - accuracy: 0.8292 - val_loss: 0.4186 - val_accuracy: 0.8090\n",
            "Epoch 50/50\n",
            "320/320 [==============================] - 1s 3ms/step - loss: 0.3775 - accuracy: 0.8293 - val_loss: 0.4244 - val_accuracy: 0.8043\n"
          ]
        }
      ]
    },
    {
      "cell_type": "code",
      "source": [
        "history1.history"
      ],
      "metadata": {
        "colab": {
          "base_uri": "https://localhost:8080/"
        },
        "id": "8odUItuhO991",
        "outputId": "68e8e8a5-bc95-4d5c-98e9-4ec7e5887ff7"
      },
      "id": "8odUItuhO991",
      "execution_count": 39,
      "outputs": [
        {
          "output_type": "execute_result",
          "data": {
            "text/plain": [
              "{'loss': [0.6055020689964294,\n",
              "  0.48584190011024475,\n",
              "  0.4583326578140259,\n",
              "  0.44107964634895325,\n",
              "  0.4281310439109802,\n",
              "  0.4191107153892517,\n",
              "  0.41253846883773804,\n",
              "  0.407535195350647,\n",
              "  0.4040413796901703,\n",
              "  0.40083345770835876,\n",
              "  0.39826589822769165,\n",
              "  0.3963013291358948,\n",
              "  0.394694983959198,\n",
              "  0.39291077852249146,\n",
              "  0.39109793305397034,\n",
              "  0.39034369587898254,\n",
              "  0.38913288712501526,\n",
              "  0.38890138268470764,\n",
              "  0.3880380690097809,\n",
              "  0.38761815428733826,\n",
              "  0.38708963990211487,\n",
              "  0.3862093985080719,\n",
              "  0.38594767451286316,\n",
              "  0.3852597773075104,\n",
              "  0.3848763108253479,\n",
              "  0.38491392135620117,\n",
              "  0.3843156695365906,\n",
              "  0.3837001919746399,\n",
              "  0.38318222761154175,\n",
              "  0.38294821977615356,\n",
              "  0.38251978158950806,\n",
              "  0.3819335997104645,\n",
              "  0.3815688192844391,\n",
              "  0.38180625438690186,\n",
              "  0.381033718585968,\n",
              "  0.3813004493713379,\n",
              "  0.38132575154304504,\n",
              "  0.3803320825099945,\n",
              "  0.3802312910556793,\n",
              "  0.3798855245113373,\n",
              "  0.3796521723270416,\n",
              "  0.37953490018844604,\n",
              "  0.37904366850852966,\n",
              "  0.37893038988113403,\n",
              "  0.3786659836769104,\n",
              "  0.3781009614467621,\n",
              "  0.37851253151893616,\n",
              "  0.37781256437301636,\n",
              "  0.37765151262283325,\n",
              "  0.3774552643299103],\n",
              " 'accuracy': [0.6497362852096558,\n",
              "  0.7679234147071838,\n",
              "  0.7832584381103516,\n",
              "  0.792244553565979,\n",
              "  0.8026958107948303,\n",
              "  0.807091236114502,\n",
              "  0.8089470863342285,\n",
              "  0.8109005689620972,\n",
              "  0.816663384437561,\n",
              "  0.8167610764503479,\n",
              "  0.8196913599967957,\n",
              "  0.820472776889801,\n",
              "  0.8216448426246643,\n",
              "  0.821840226650238,\n",
              "  0.8215471506118774,\n",
              "  0.8239890336990356,\n",
              "  0.8255518674850464,\n",
              "  0.8258448839187622,\n",
              "  0.8262355923652649,\n",
              "  0.8251611590385437,\n",
              "  0.8270170092582703,\n",
              "  0.8256495594978333,\n",
              "  0.8258448839187622,\n",
              "  0.8277007341384888,\n",
              "  0.8263332843780518,\n",
              "  0.8263332843780518,\n",
              "  0.8267239928245544,\n",
              "  0.8278960585594177,\n",
              "  0.827505350112915,\n",
              "  0.8278960585594177,\n",
              "  0.8292635083198547,\n",
              "  0.8296542167663574,\n",
              "  0.8307286500930786,\n",
              "  0.8285797834396362,\n",
              "  0.8296542167663574,\n",
              "  0.8270170092582703,\n",
              "  0.8279937505722046,\n",
              "  0.8282867670059204,\n",
              "  0.8299472332000732,\n",
              "  0.8293612003326416,\n",
              "  0.8286774754524231,\n",
              "  0.8262355923652649,\n",
              "  0.828872799873352,\n",
              "  0.8285797834396362,\n",
              "  0.8296542167663574,\n",
              "  0.8290681838989258,\n",
              "  0.8277007341384888,\n",
              "  0.8302403092384338,\n",
              "  0.8291658759117126,\n",
              "  0.8292635083198547],\n",
              " 'val_loss': [0.6633044481277466,\n",
              "  0.49291500449180603,\n",
              "  0.5030151605606079,\n",
              "  0.463651180267334,\n",
              "  0.45934566855430603,\n",
              "  0.45837998390197754,\n",
              "  0.4186336100101471,\n",
              "  0.4336059093475342,\n",
              "  0.4012910723686218,\n",
              "  0.42860478162765503,\n",
              "  0.4087991714477539,\n",
              "  0.4288182854652405,\n",
              "  0.44213804602622986,\n",
              "  0.44693723320961,\n",
              "  0.41209229826927185,\n",
              "  0.4008352756500244,\n",
              "  0.45219093561172485,\n",
              "  0.4141436219215393,\n",
              "  0.4354070723056793,\n",
              "  0.39138850569725037,\n",
              "  0.4422087073326111,\n",
              "  0.43778806924819946,\n",
              "  0.43356552720069885,\n",
              "  0.43821588158607483,\n",
              "  0.36122673749923706,\n",
              "  0.3894730806350708,\n",
              "  0.40784206986427307,\n",
              "  0.44217967987060547,\n",
              "  0.44065746665000916,\n",
              "  0.39278122782707214,\n",
              "  0.4544849395751953,\n",
              "  0.44264763593673706,\n",
              "  0.40011969208717346,\n",
              "  0.40104228258132935,\n",
              "  0.3987242877483368,\n",
              "  0.38102030754089355,\n",
              "  0.39413899183273315,\n",
              "  0.42747727036476135,\n",
              "  0.3757760226726532,\n",
              "  0.42295295000076294,\n",
              "  0.41262927651405334,\n",
              "  0.4052417278289795,\n",
              "  0.42501354217529297,\n",
              "  0.4700899124145508,\n",
              "  0.40647825598716736,\n",
              "  0.4042838513851166,\n",
              "  0.36376506090164185,\n",
              "  0.4361177384853363,\n",
              "  0.4185968339443207,\n",
              "  0.42438751459121704],\n",
              " 'val_accuracy': [0.684765636920929,\n",
              "  0.7890625,\n",
              "  0.7777343988418579,\n",
              "  0.8011718988418579,\n",
              "  0.8003906011581421,\n",
              "  0.793749988079071,\n",
              "  0.814453125,\n",
              "  0.798828125,\n",
              "  0.818359375,\n",
              "  0.7984374761581421,\n",
              "  0.809765636920929,\n",
              "  0.802734375,\n",
              "  0.7906249761581421,\n",
              "  0.783984363079071,\n",
              "  0.809374988079071,\n",
              "  0.818359375,\n",
              "  0.78515625,\n",
              "  0.809374988079071,\n",
              "  0.7945312261581421,\n",
              "  0.8257812261581421,\n",
              "  0.7886718511581421,\n",
              "  0.797656238079071,\n",
              "  0.7972656488418579,\n",
              "  0.790234386920929,\n",
              "  0.846484363079071,\n",
              "  0.8277343511581421,\n",
              "  0.8203125,\n",
              "  0.79296875,\n",
              "  0.798828125,\n",
              "  0.8238281011581421,\n",
              "  0.7855468988418579,\n",
              "  0.795703113079071,\n",
              "  0.8203125,\n",
              "  0.822265625,\n",
              "  0.8238281011581421,\n",
              "  0.827343761920929,\n",
              "  0.823046863079071,\n",
              "  0.8031250238418579,\n",
              "  0.8363281488418579,\n",
              "  0.807421863079071,\n",
              "  0.8128906488418579,\n",
              "  0.818359375,\n",
              "  0.805859386920929,\n",
              "  0.7777343988418579,\n",
              "  0.817578136920929,\n",
              "  0.818359375,\n",
              "  0.84375,\n",
              "  0.789843738079071,\n",
              "  0.8089843988418579,\n",
              "  0.8042968511581421]}"
            ]
          },
          "metadata": {},
          "execution_count": 39
        }
      ]
    },
    {
      "cell_type": "code",
      "source": [
        "plt.plot(history1.history['loss'])\n",
        "plt.plot(history1.history['val_loss'])"
      ],
      "metadata": {
        "colab": {
          "base_uri": "https://localhost:8080/",
          "height": 447
        },
        "id": "g0AD4zeWPim9",
        "outputId": "a1c16148-142f-4130-a5c3-2c837c47dae2"
      },
      "id": "g0AD4zeWPim9",
      "execution_count": 40,
      "outputs": [
        {
          "output_type": "execute_result",
          "data": {
            "text/plain": [
              "[<matplotlib.lines.Line2D at 0x7d37cf91f5e0>]"
            ]
          },
          "metadata": {},
          "execution_count": 40
        },
        {
          "output_type": "display_data",
          "data": {
            "text/plain": [
              "<Figure size 640x480 with 1 Axes>"
            ],
            "image/png": "[encoded data removed]"
          },
          "metadata": {}
        }
      ]
    },
    {
      "cell_type": "code",
      "source": [
        "plt.plot(history1.history['accuracy'])\n",
        "plt.plot(history1.history['val_accuracy'])"
      ],
      "metadata": {
        "colab": {
          "base_uri": "https://localhost:8080/",
          "height": 447
        },
        "id": "I0AOxW0uP8Pl",
        "outputId": "b56a458e-0f25-4966-a8d0-f6a809c3c1ed"
      },
      "id": "I0AOxW0uP8Pl",
      "execution_count": 41,
      "outputs": [
        {
          "output_type": "execute_result",
          "data": {
            "text/plain": [
              "[<matplotlib.lines.Line2D at 0x7d37cf99b5b0>]"
            ]
          },
          "metadata": {},
          "execution_count": 41
        },
        {
          "output_type": "display_data",
          "data": {
            "text/plain": [
              "<Figure size 640x480 with 1 Axes>"
            ],
            "image/png": "[encoded data removed]"
          },
          "metadata": {}
        }
      ]
    },
    {
      "cell_type": "code",
      "source": [
        "ypredsm=np.where(model1.predict(xtestsmsc)>=0.5,1,0)"
      ],
      "metadata": {
        "colab": {
          "base_uri": "https://localhost:8080/"
        },
        "id": "N1VNW5X1QH61",
        "outputId": "d8dcdfb5-66b4-4357-b14a-bab333a86e53"
      },
      "id": "N1VNW5X1QH61",
      "execution_count": 42,
      "outputs": [
        {
          "output_type": "stream",
          "name": "stdout",
          "text": [
            "63/63 [==============================] - 0s 2ms/step\n"
          ]
        }
      ]
    },
    {
      "cell_type": "code",
      "source": [
        "ypredsm"
      ],
      "metadata": {
        "colab": {
          "base_uri": "https://localhost:8080/"
        },
        "id": "n6sY6aqMRQv3",
        "outputId": "eaeb248a-caeb-4aa0-ace5-150c2609a499"
      },
      "id": "n6sY6aqMRQv3",
      "execution_count": 43,
      "outputs": [
        {
          "output_type": "execute_result",
          "data": {
            "text/plain": [
              "array([[0],\n",
              "       [0],\n",
              "       [1],\n",
              "       ...,\n",
              "       [0],\n",
              "       [1],\n",
              "       [0]])"
            ]
          },
          "metadata": {},
          "execution_count": 43
        }
      ]
    },
    {
      "cell_type": "code",
      "source": [
        "from sklearn.metrics import accuracy_score"
      ],
      "metadata": {
        "id": "0McfFz5uQgne"
      },
      "id": "0McfFz5uQgne",
      "execution_count": 44,
      "outputs": []
    },
    {
      "cell_type": "code",
      "source": [
        "accuracy_score(ytest,ypredsm)"
      ],
      "metadata": {
        "colab": {
          "base_uri": "https://localhost:8080/"
        },
        "id": "EM56lI5FRPpX",
        "outputId": "6b913dc1-971e-4e7e-cc67-f7763ddd5c10"
      },
      "id": "EM56lI5FRPpX",
      "execution_count": 45,
      "outputs": [
        {
          "output_type": "execute_result",
          "data": {
            "text/plain": [
              "0.8325"
            ]
          },
          "metadata": {},
          "execution_count": 45
        }
      ]
    },
    {
      "cell_type": "code",
      "source": [],
      "metadata": {
        "id": "f-tXS7JbRe8t"
      },
      "id": "f-tXS7JbRe8t",
      "execution_count": 45,
      "outputs": []
    }
  ],
  "metadata": {
    "kernelspec": {
      "display_name": "Python 3 (ipykernel)",
      "language": "python",
      "name": "python3"
    },
    "language_info": {
      "codemirror_mode": {
        "name": "ipython",
        "version": 3
      },
      "file_extension": ".py",
      "mimetype": "text/x-python",
      "name": "python",
      "nbconvert_exporter": "python",
      "pygments_lexer": "ipython3",
      "version": "3.9.12"
    },
    "colab": {
      "provenance": []
    }
  },
  "nbformat": 4,
  "nbformat_minor": 5
}